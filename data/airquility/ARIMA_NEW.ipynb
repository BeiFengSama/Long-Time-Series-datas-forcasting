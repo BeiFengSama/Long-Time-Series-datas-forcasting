{
 "cells": [
  {
   "cell_type": "markdown",
   "metadata": {},
   "source": [
    "数据导入"
   ]
  },
  {
   "cell_type": "code",
   "execution_count": 4,
   "metadata": {},
   "outputs": [
    {
     "data": {
      "text/html": [
       "<div>\n",
       "<style scoped>\n",
       "    .dataframe tbody tr th:only-of-type {\n",
       "        vertical-align: middle;\n",
       "    }\n",
       "\n",
       "    .dataframe tbody tr th {\n",
       "        vertical-align: top;\n",
       "    }\n",
       "\n",
       "    .dataframe thead th {\n",
       "        text-align: right;\n",
       "    }\n",
       "</style>\n",
       "<table border=\"1\" class=\"dataframe\">\n",
       "  <thead>\n",
       "    <tr style=\"text-align: right;\">\n",
       "      <th></th>\n",
       "      <th>Date</th>\n",
       "      <th>TEMP</th>\n",
       "    </tr>\n",
       "  </thead>\n",
       "  <tbody>\n",
       "    <tr>\n",
       "      <th>0</th>\n",
       "      <td>2013-03-01 00:00:00</td>\n",
       "      <td>-0.5</td>\n",
       "    </tr>\n",
       "    <tr>\n",
       "      <th>1</th>\n",
       "      <td>2013-03-01 01:00:00</td>\n",
       "      <td>-0.7</td>\n",
       "    </tr>\n",
       "    <tr>\n",
       "      <th>2</th>\n",
       "      <td>2013-03-01 02:00:00</td>\n",
       "      <td>-1.2</td>\n",
       "    </tr>\n",
       "    <tr>\n",
       "      <th>3</th>\n",
       "      <td>2013-03-01 03:00:00</td>\n",
       "      <td>-1.4</td>\n",
       "    </tr>\n",
       "    <tr>\n",
       "      <th>4</th>\n",
       "      <td>2013-03-01 04:00:00</td>\n",
       "      <td>-1.9</td>\n",
       "    </tr>\n",
       "  </tbody>\n",
       "</table>\n",
       "</div>"
      ],
      "text/plain": [
       "                 Date  TEMP\n",
       "0 2013-03-01 00:00:00  -0.5\n",
       "1 2013-03-01 01:00:00  -0.7\n",
       "2 2013-03-01 02:00:00  -1.2\n",
       "3 2013-03-01 03:00:00  -1.4\n",
       "4 2013-03-01 04:00:00  -1.9"
      ]
     },
     "execution_count": 4,
     "metadata": {},
     "output_type": "execute_result"
    }
   ],
   "source": [
    "import numpy as np\n",
    "import pandas as pd\n",
    "import matplotlib.pyplot as plt\n",
    "\n",
    "df = pd.read_csv(\"station-data\\\\PRSA_Data_Tiantan_20130301-20170228.csv\")\n",
    "# 合并时间列\n",
    "df['Date'] = df['year'].astype(str) + '-' + df['month'].astype(str) + '-' + df['day'].astype(str) + '-' + df['hour'].astype(str)\n",
    "\n",
    "# 将合并后的列转换为日期时间类型\n",
    "df['Date'] = pd.to_datetime(df['Date'], format='%Y-%m-%d-%H')\n",
    "\n",
    "df.sort_values(by=['Date'], inplace=True, ascending=True)\n",
    "\n",
    "df = df[['Date', 'TEMP']].copy()\n",
    "\n",
    "df.head()"
   ]
  },
  {
   "cell_type": "markdown",
   "metadata": {},
   "source": [
    "数据预处理"
   ]
  },
  {
   "cell_type": "markdown",
   "metadata": {},
   "source": [
    "1.处理缺失值"
   ]
  },
  {
   "cell_type": "code",
   "execution_count": 3,
   "metadata": {},
   "outputs": [
    {
     "name": "stdout",
     "output_type": "stream",
     "text": [
      "No            0\n",
      "year          0\n",
      "month         0\n",
      "day           0\n",
      "hour          0\n",
      "PM2.5       677\n",
      "PM10        597\n",
      "SO2        1118\n",
      "NO2         744\n",
      "CO         1126\n",
      "O3          843\n",
      "TEMP         20\n",
      "PRES         20\n",
      "DEWP         20\n",
      "RAIN         20\n",
      "wd           78\n",
      "WSPM         14\n",
      "station       0\n",
      "Date          0\n",
      "dtype: int64\n",
      "0        False\n",
      "1        False\n",
      "2        False\n",
      "3        False\n",
      "4        False\n",
      "         ...  \n",
      "35059     True\n",
      "35060     True\n",
      "35061    False\n",
      "35062    False\n",
      "35063    False\n",
      "Length: 35064, dtype: bool\n",
      "No                         106\n",
      "year                      2013\n",
      "month                        3\n",
      "day                          5\n",
      "hour                         9\n",
      "PM2.5                    114.0\n",
      "PM10                     133.0\n",
      "SO2                       93.0\n",
      "NO2                       86.0\n",
      "CO                      3200.0\n",
      "O3                        99.0\n",
      "TEMP                       6.7\n",
      "PRES                    1014.5\n",
      "DEWP                      -8.9\n",
      "RAIN                       0.0\n",
      "wd                           E\n",
      "WSPM                       1.3\n",
      "station                Tiantan\n",
      "Date       2013-03-05 09:00:00\n",
      "Name: 105, dtype: object\n",
      "No                         107\n",
      "year                      2013\n",
      "month                        3\n",
      "day                          5\n",
      "hour                        10\n",
      "PM2.5                    127.0\n",
      "PM10                     154.0\n",
      "SO2                       86.0\n",
      "NO2                      105.0\n",
      "CO                      3399.0\n",
      "O3                        99.0\n",
      "TEMP                       9.1\n",
      "PRES                    1013.8\n",
      "DEWP                      -8.5\n",
      "RAIN                       0.0\n",
      "wd                           E\n",
      "WSPM                       0.9\n",
      "station                Tiantan\n",
      "Date       2013-03-05 10:00:00\n",
      "Name: 106, dtype: object\n"
     ]
    }
   ],
   "source": [
    "print(df.isnull().sum())    # 返回每一列中的缺失值（NaN）的数量\n",
    "print(df.isnull().any(axis=1))  # 返回一个布尔序列，标识每一行是否含有缺失值\n",
    "print(df.iloc[105])   # 查看具体某一行的值，可以通过索引或者iloc属性来实现\n",
    "print(df.iloc[106])"
   ]
  }
 ],
 "metadata": {
  "kernelspec": {
   "display_name": ".venv",
   "language": "python",
   "name": "python3"
  },
  "language_info": {
   "codemirror_mode": {
    "name": "ipython",
    "version": 3
   },
   "file_extension": ".py",
   "mimetype": "text/x-python",
   "name": "python",
   "nbconvert_exporter": "python",
   "pygments_lexer": "ipython3",
   "version": "3.11.4"
  }
 },
 "nbformat": 4,
 "nbformat_minor": 2
}
